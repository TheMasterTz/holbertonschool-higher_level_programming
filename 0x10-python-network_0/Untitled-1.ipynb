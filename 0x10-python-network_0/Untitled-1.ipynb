{
 "cells": [
  {
   "cell_type": "code",
   "execution_count": 3,
   "metadata": {},
   "outputs": [
    {
     "name": "stdout",
     "output_type": "stream",
     "text": [
      "6\n",
      "3\n",
      "2\n",
      "None\n",
      "2\n",
      "4\n"
     ]
    }
   ],
   "source": [
    "def no_igual(lista, n):\n",
    "    iter2 = 0\n",
    "    for iter in range(n):\n",
    "        if lista[0] == lista[iter]:\n",
    "            iter2 = iter2 + 1\n",
    "\n",
    "    if iter2 == (iter + 1):\n",
    "        return True\n",
    "    return False\n",
    "\n",
    "def find_peak(list_of_integers):\n",
    "    lista = list_of_integers\n",
    "    logitud = len(lista)\n",
    "\n",
    "    if logitud == 0 or lista is None:\n",
    "        return None\n",
    "    elif logitud == 1:\n",
    "        return lista[0]\n",
    "    elif no_igual(lista, logitud):\n",
    "        return lista[0]\n",
    "\n",
    "    for i in range(logitud):\n",
    "        if logitud <= 6:\n",
    "            if i == 0:\n",
    "                i = 1\n",
    "            if lista[i + 1] < lista[i] and lista[i - 1] < lista[i]:\n",
    "                return lista[i]\n",
    "\n",
    "        if lista[i + 1] < lista[i] and lista[i - 1] < lista[i]:\n",
    "            return lista[i]\n",
    "\n",
    "\n",
    "print(find_peak([1, 2, 4, 6, 3]))\n",
    "print(find_peak([4, 2, 1, 2, 3, 1]))\n",
    "print(find_peak([2, 2, 2]))\n",
    "print(find_peak([]))\n",
    "print(find_peak([-2, -4, 2, 1]))\n",
    "print(find_peak([4, 2, 1, 2, 2, 2, 3, 1]))"
   ]
  },
  {
   "cell_type": "code",
   "execution_count": 8,
   "metadata": {},
   "outputs": [
    {
     "name": "stdout",
     "output_type": "stream",
     "text": [
      "6\n",
      "3\n",
      "2\n",
      "None\n",
      "2\n",
      "4\n"
     ]
    }
   ],
   "source": [
    "\n",
    "\n",
    "def find_peak(list_of_integers):\n",
    "    long = len(list_of_integers)\n",
    "\n",
    "    if not list_of_integers:\n",
    "        return None\n",
    "\n",
    "    for idx, i in enumerate(list_of_integers):\n",
    "\n",
    "        if long <= 6:\n",
    "            if idx == 0:\n",
    "                idx = 1\n",
    "            if i > list_of_integers[idx - 1] and i > list_of_integers[idx + 1]:\n",
    "                return i\n",
    "\n",
    "        if i > list_of_integers[idx - 1] and i > list_of_integers[idx + 1]:\n",
    "                return i\n",
    "\n",
    "    return list_of_integers[0]\n",
    "\n",
    "\n",
    "print(find_peak([1, 2, 4, 6, 3]))\n",
    "print(find_peak([4, 2, 1, 2, 3, 1]))\n",
    "print(find_peak([2, 2, 2]))\n",
    "print(find_peak([]))\n",
    "print(find_peak([-2, -4, 2, 1]))\n",
    "print(find_peak([4, 2, 1, 2, 2, 2, 3, 1]))"
   ]
  }
 ],
 "metadata": {
  "interpreter": {
   "hash": "31f2aee4e71d21fbe5cf8b01ff0e069b9275f58929596ceb00d14d90e3e16cd6"
  },
  "kernelspec": {
   "display_name": "Python 3.8.10 64-bit",
   "language": "python",
   "name": "python3"
  },
  "language_info": {
   "codemirror_mode": {
    "name": "ipython",
    "version": 3
   },
   "file_extension": ".py",
   "mimetype": "text/x-python",
   "name": "python",
   "nbconvert_exporter": "python",
   "pygments_lexer": "ipython3",
   "version": "3.8.10"
  },
  "orig_nbformat": 4
 },
 "nbformat": 4,
 "nbformat_minor": 2
}
